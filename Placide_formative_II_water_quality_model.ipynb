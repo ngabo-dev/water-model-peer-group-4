{
  "cells": [
    {
      "cell_type": "markdown",
      "metadata": {
        "id": "view-in-github",
        "colab_type": "text"
      },
      "source": [
        "<a href=\"https://colab.research.google.com/github/ngabo-dev/water-model-peer-group-4/blob/main/Placide_formative_II_water_quality_model.ipynb\" target=\"_parent\"><img src=\"https://colab.research.google.com/assets/colab-badge.svg\" alt=\"Open In Colab\"/></a>"
      ]
    },
    {
      "cell_type": "markdown",
      "metadata": {
        "id": "hrXv0rU9sIma"
      },
      "source": [
        "# Excercise - Creating our own custom Model"
      ]
    },
    {
      "cell_type": "markdown",
      "metadata": {
        "id": "iJyZUDbzBTIG"
      },
      "source": [
        "This is a notebook that provides a quick overview of how to create your own custom model. You will be creating a simple model.\n",
        "You will be utilizing Keras and Tensorflow\n"
      ]
    },
    {
      "cell_type": "markdown",
      "metadata": {
        "id": "gvLegMMvBZYg"
      },
      "source": [
        "## Water Quality Dataset\n",
        "\n",
        "This dataset contains water quality measurements and assessments related to potability, which is the suitability of water for human consumption. The dataset's primary objective is to provide insights into water quality parameters and assist in determining whether the water is potable or not. Each row in the dataset represents a water sample with specific attributes, and the \"Potability\" column indicates whether the water is suitable for consumption.\n",
        "\n",
        "https://www.kaggle.com/datasets/uom190346a/water-quality-and-potability?select=water_potability.csv\n"
      ]
    },
    {
      "cell_type": "code",
      "source": [
        "import pandas as pd\n",
        "from sklearn.model_selection import train_test_split\n",
        "from sklearn.preprocessing import StandardScaler\n",
        "from sklearn.datasets import make_classification\n",
        "import tensorflow as tf\n",
        "from tensorflow import keras\n",
        "from tensorflow.keras import layers"
      ],
      "metadata": {
        "id": "CPbSYW1U1mfn"
      },
      "execution_count": null,
      "outputs": []
    },
    {
      "cell_type": "code",
      "source": [
        "#LOAD THE DATA\n",
        "data = pd.read_csv('water_potability.csv')\n",
        "print(data)"
      ],
      "metadata": {
        "colab": {
          "base_uri": "https://localhost:8080/"
        },
        "id": "Qvnx0_dT3JEq",
        "outputId": "66324c2d-9a5f-42d3-b17c-a7e13bcc2c5f"
      },
      "execution_count": null,
      "outputs": [
        {
          "output_type": "stream",
          "name": "stdout",
          "text": [
            "            ph    Hardness        Solids  Chloramines     Sulfate  \\\n",
            "0          NaN  204.890455  20791.318981     7.300212  368.516441   \n",
            "1     3.716080  129.422921  18630.057858     6.635246         NaN   \n",
            "2     8.099124  224.236259  19909.541732     9.275884         NaN   \n",
            "3     8.316766  214.373394  22018.417441     8.059332  356.886136   \n",
            "4     9.092223  181.101509  17978.986339     6.546600  310.135738   \n",
            "...        ...         ...           ...          ...         ...   \n",
            "3271  4.668102  193.681735  47580.991603     7.166639  359.948574   \n",
            "3272  7.808856  193.553212  17329.802160     8.061362         NaN   \n",
            "3273  9.419510  175.762646  33155.578218     7.350233         NaN   \n",
            "3274  5.126763  230.603758  11983.869376     6.303357         NaN   \n",
            "3275  7.874671  195.102299  17404.177061     7.509306         NaN   \n",
            "\n",
            "      Conductivity  Organic_carbon  Trihalomethanes  Turbidity  Potability  \n",
            "0       564.308654       10.379783        86.990970   2.963135           0  \n",
            "1       592.885359       15.180013        56.329076   4.500656           0  \n",
            "2       418.606213       16.868637        66.420093   3.055934           0  \n",
            "3       363.266516       18.436524       100.341674   4.628771           0  \n",
            "4       398.410813       11.558279        31.997993   4.075075           0  \n",
            "...            ...             ...              ...        ...         ...  \n",
            "3271    526.424171       13.894419        66.687695   4.435821           1  \n",
            "3272    392.449580       19.903225              NaN   2.798243           1  \n",
            "3273    432.044783       11.039070        69.845400   3.298875           1  \n",
            "3274    402.883113       11.168946        77.488213   4.708658           1  \n",
            "3275    327.459760       16.140368        78.698446   2.309149           1  \n",
            "\n",
            "[3276 rows x 10 columns]\n"
          ]
        }
      ]
    },
    {
      "cell_type": "markdown",
      "source": [
        "Data Preprocessing"
      ],
      "metadata": {
        "id": "JaWE9xKb-MhD"
      }
    },
    {
      "cell_type": "code",
      "source": [
        "data.fillna(data.mean(), inplace=True)\n",
        "X = data.drop(\"Potability\", axis=1)\n",
        "y = data[\"Potability\"]\n",
        "scaler = StandardScaler()\n",
        "X_scaled = scaler.fit_transform(X)"
      ],
      "metadata": {
        "id": "233HdERE96ID"
      },
      "execution_count": null,
      "outputs": []
    },
    {
      "cell_type": "markdown",
      "source": [
        "Plot the Data Appropriately"
      ],
      "metadata": {
        "id": "2QfR0r8cGVU7"
      }
    },
    {
      "cell_type": "code",
      "source": [
        "\n",
        "#from sklearn import train_test_split\n",
        "X_train, X_test, y_train, y_test = train_test_split(X_scaled, y, test_size=0.15, random_state=42)\n"
      ],
      "metadata": {
        "id": "wfSk1lXRYjrh"
      },
      "execution_count": null,
      "outputs": []
    },
    {
      "cell_type": "markdown",
      "source": [
        "# Each Memeber Defines their model Here"
      ],
      "metadata": {
        "id": "LvjIHLrcGhzc"
      }
    },
    {
      "cell_type": "code",
      "source": [
        "#Model Definition\n",
        "def model_placide_imanzi():\n",
        "    from tensorflow.keras import Sequential\n",
        "    from tensorflow.keras.layers import Dense, Dropout\n",
        "    from tensorflow.keras.optimizers import Adagrad\n",
        "    from tensorflow.keras.regularizers import l1_l2\n",
        "\n",
        "    reg = l1_l2(l1=0.001, l2=0.001)\n",
        "\n",
        "    model = Sequential()\n",
        "    model.add(Dense(128, input_dim=X_train.shape[1], activation='relu', kernel_regularizer=reg))\n",
        "    model.add(Dropout(0.4))\n",
        "    model.add(Dense(64, activation='relu', kernel_regularizer=reg))\n",
        "    model.add(Dropout(0.4))\n",
        "    model.add(Dense(1, activation='sigmoid'))\n",
        "\n",
        "    optimizer = Adagrad(learning_rate=0.01)\n",
        "\n",
        "    model.compile(\n",
        "        loss='binary_crossentropy',\n",
        "        optimizer=optimizer,\n",
        "        metrics=['accuracy']\n",
        "    )\n",
        "\n",
        "    return model\n"
      ],
      "metadata": {
        "id": "FLwYoJG9jvDa"
      },
      "execution_count": null,
      "outputs": []
    },
    {
      "cell_type": "code",
      "source": [
        "from tensorflow.keras.callbacks import EarlyStopping\n",
        "es = EarlyStopping(\n",
        "    monitor='val_loss',\n",
        "    patience=8,\n",
        "    min_delta=0.001,\n",
        "    restore_best_weights=True\n",
        ")\n"
      ],
      "metadata": {
        "id": "Fqlh8nv4QaBR"
      },
      "execution_count": null,
      "outputs": []
    },
    {
      "cell_type": "markdown",
      "source": [
        "# Start the training Process"
      ],
      "metadata": {
        "id": "hDSPmAB9jkrG"
      }
    },
    {
      "cell_type": "code",
      "source": [
        "model = model_placide_imanzi()\n",
        "history = model.fit(\n",
        "    X_train, y_train,\n",
        "    validation_split=0.15,\n",
        "    epochs=200,\n",
        "    verbose=0,\n",
        "    callbacks=[es]\n",
        ")\n",
        "\n",
        "# Evaluate\n",
        "train_loss, train_acc = model.evaluate(X_train, y_train, verbose=0)\n",
        "test_loss, test_acc = model.evaluate(X_test, y_test, verbose=0)\n",
        "\n",
        "from sklearn.metrics import f1_score, precision_score, recall_score\n",
        "\n",
        "y_pred = model.predict(X_test)\n",
        "y_pred_classes = (y_pred > 0.5).astype(\"int32\")\n",
        "\n",
        "f1 = f1_score(y_test, y_pred_classes)\n",
        "recall = recall_score(y_test, y_pred_classes)\n",
        "precision = precision_score(y_test, y_pred_classes)\n",
        "\n",
        "print(\"Train Accuracy:\", train_acc)\n",
        "print(\"Test Accuracy:\", test_acc)\n",
        "print(\"F1 Score:\", f1)\n",
        "print(\"Recall:\", recall)\n",
        "print(\"Precision:\", precision)\n"
      ],
      "metadata": {
        "id": "OWQHapf3jlYH",
        "colab": {
          "base_uri": "https://localhost:8080/"
        },
        "outputId": "08519e7f-9105-453f-9377-2e58dd014b33"
      },
      "execution_count": null,
      "outputs": [
        {
          "output_type": "stream",
          "name": "stderr",
          "text": [
            "/usr/local/lib/python3.11/dist-packages/keras/src/layers/core/dense.py:87: UserWarning: Do not pass an `input_shape`/`input_dim` argument to a layer. When using Sequential models, prefer using an `Input(shape)` object as the first layer in the model instead.\n",
            "  super().__init__(activity_regularizer=activity_regularizer, **kwargs)\n"
          ]
        },
        {
          "output_type": "stream",
          "name": "stdout",
          "text": [
            "\u001b[1m16/16\u001b[0m \u001b[32m━━━━━━━━━━━━━━━━━━━━\u001b[0m\u001b[37m\u001b[0m \u001b[1m0s\u001b[0m 5ms/step\n",
            "Train Accuracy: 0.6795976758003235\n",
            "Test Accuracy: 0.6808943152427673\n",
            "F1 Score: 0.38910505836575876\n",
            "Recall: 0.26881720430107525\n",
            "Precision: 0.704225352112676\n"
          ]
        }
      ]
    },
    {
      "cell_type": "code",
      "source": [
        "import matplotlib.pyplot as plt\n",
        "\n",
        "plt.figure(figsize=(10, 6))\n",
        "plt.plot(history.history['loss'], label='Train Loss')\n",
        "plt.plot(history.history['val_loss'], label='Validation Loss')\n",
        "plt.title('Model Loss Over Epochs')\n",
        "plt.xlabel('Epoch')\n",
        "plt.ylabel('Loss')\n",
        "plt.legend(loc='upper right')\n",
        "plt.grid(True)\n",
        "plt.show()\n"
      ],
      "metadata": {
        "id": "-f-wiqJ0UxHa",
        "outputId": "cfe40599-aff6-4cc0-eba1-76839a0b40f5",
        "colab": {
          "base_uri": "https://localhost:8080/",
          "height": 564
        }
      },
      "execution_count": null,
      "outputs": [
        {
          "output_type": "display_data",
          "data": {
            "text/plain": [
              "<Figure size 1000x600 with 1 Axes>"
            ],
            "image/png": "[encoded data removed]"
          },
          "metadata": {}
        }
      ]
    }
  ],
  "metadata": {
    "colab": {
      "provenance": [],
      "include_colab_link": true
    },
    "kernelspec": {
      "display_name": "Python 3",
      "name": "python3"
    }
  },
  "nbformat": 4,
  "nbformat_minor": 0
}