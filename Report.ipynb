{
  "nbformat": 4,
  "nbformat_minor": 0,
  "metadata": {
    "colab": {
      "provenance": [],
      "include_colab_link": true
    },
    "kernelspec": {
      "name": "python3",
      "display_name": "Python 3"
    },
    "language_info": {
      "name": "python"
    }
  },
  "cells": [
    {
      "cell_type": "markdown",
      "metadata": {
        "id": "view-in-github",
        "colab_type": "text"
      },
      "source": [
        "<a href=\"https://colab.research.google.com/github/ngabo-dev/water-model-peer-group-4/blob/main/Report.ipynb\" target=\"_parent\"><img src=\"https://colab.research.google.com/assets/colab-badge.svg\" alt=\"Open In Colab\"/></a>"
      ]
    },
    {
      "cell_type": "code",
      "execution_count": null,
      "metadata": {
        "id": "Tx8_QzWc1r2c"
      },
      "outputs": [],
      "source": []
    },
    {
      "cell_type": "markdown",
      "source": [
        "Nhial Majok - Interpretation:\n",
        "\n",
        "\n",
        "The model achieves balanced performance across precision and recall — a key improvement from earlier versions that only predicted the majority class.\n",
        "\n",
        "\n",
        "The F1 score reflects a moderate ability to detect unsafe water while avoiding excessive false positives.\n",
        "\n",
        "\n",
        " Comparison with Group Members\n",
        "\n",
        "| Member Name     | Accuracy | Precision | Recall | F1 Score |\n",
        "| --------------- | -------- | --------- | ------ | -------- |\n",
        "| **Benitha**     | 0.9720   | 0.9664    | 0.8464 | 0.9024   |\n",
        "| **Jean Pierre** | 0.9410   | 0.9200    | 0.7800 | 0.8433   |\n",
        "| **Placide**     | 0.8850   | 0.8900    | 0.7000 | 0.7848   |\n",
        "| **Prince**      | 0.9250   | 0.9400    | 0.7800 | 0.8521   |\n",
        "| **Nhial (me)**  | 0.6545   | 0.5573    | 0.5573 | 0.5573   |\n",
        "\n",
        "\n",
        "Jean Pierre’s–Prince’s results are representative based on their reported metrics in the notebook.\n",
        "\n",
        "\n",
        " In-Depth Analysis\n",
        "Precision & Recall\n",
        "\n",
        "\n",
        "Benitha’s model outperforms on both metrics, meaning it better identifies unsafe samples while maintaining low false alarms.\n",
        "\n",
        "I achieved balanced but modest values, indicating moderate reliability in identifying unsafe water but still lacking compared to peers.\n",
        "\n",
        "F1 Score\n",
        "\n",
        "\n",
        "Benchmarks for peers: highest was 0.9024 (Benitha), while mine is 0.5573.\n",
        "\n",
        "A substantially lower F1 score indicates mine still lacks strong predictive capability.\n",
        "\n",
        "Accuracy\n",
        "\n",
        "\n",
        "High across the group (0.88–0.97), indicating overall ability to distinguish classes.\n",
        "\n",
        "However, accuracy can hide bias in imbalanced datasets — important to focus on F1/recall for the minority class (unsafe water).\n",
        "\n",
        "Reasons for Performance Gap:\n",
        "\n",
        "Model complexity vs regularization: My use of L2 (0.001) and dropout (0.3) may have over-regularized the model, limiting its ability to learn finer patterns.\n",
        "\n",
        "Learning rate set low (0.0004), potentially causing slower convergence to optimal weights.\n",
        "\n",
        "Architecture depth: Peers used deeper models or better feature engineering, which helped them capture more nuanced patterns.\n",
        "\n",
        "Task Objective Alignment\n",
        "\n",
        "\n",
        "The goal is to minimize false negatives (unsafe water predicted safe). While my balanced model does not ignore the unsafe class, my recall (0.5573) is still too low for safety-critical applications — peers all surpassed 70% recall, with Benitha leading at ~85%.\n",
        "\n",
        "\n",
        "Summary\n",
        "\n",
        "Strong peers like Benitha achieved industry-ready performance with high precision, recall, and F1.\n",
        "\n",
        "My current model, while an improvement, still needs tuning to align with the safety-first objective:\n",
        "\n",
        "\n",
        "Need better recall (≥70%)\n",
        "\n",
        "\n",
        "F1 score needs to be ≥0.80 for deployment viability\n",
        "\n",
        "Moving forward, I’ll work on reducing dropout intensity, exploring deeper networks, adjusting learning rates, and incorporating class weights or sampling strategies to catch up to group standards.\n",
        "\n"
      ],
      "metadata": {
        "id": "19A-rHSa3CGv"
      }
    },
    {
      "cell_type": "markdown",
      "source": [
        "**Jean Pierre Comparing with Nhial's model**"
      ],
      "metadata": {
        "id": "ZWFxh3N01-Vw"
      }
    },
    {
      "cell_type": "markdown",
      "source": [
        "Nhial’s model is better because:\n",
        "\n",
        "It uses LeakyReLU activation functions, which help prevent the dying neuron problem and improve learning stability compared to the standard ReLU activation in my model.\n",
        "\n",
        "The dropout rate in Nhial’s model is higher (0.35), which can reduce overfitting more effectively, making the model more robust on unseen data.\n",
        "\n",
        "Nhial employs a lower learning rate and early stopping with patience of 8 epochs, which helps the model avoid overtraining and potentially achieve better generalization than my model that trains for a fixed large number of epochs.\n",
        "\n",
        "However, I noticed that Nhial uses a custom classification threshold of 0.4 to improve recall, which might inflate recall while reducing precision. This could affect the fairness of comparing F1 scores."
      ],
      "metadata": {
        "id": "0xcmWiIi10hV"
      }
    },
    {
      "cell_type": "code",
      "source": [],
      "metadata": {
        "id": "ZcmQdLxIUu3d"
      },
      "execution_count": null,
      "outputs": []
    },
    {
      "cell_type": "markdown",
      "source": [
        "**Commits images**"
      ],
      "metadata": {
        "id": "TzlXDaTYUwr6"
      }
    },
    {
      "cell_type": "markdown",
      "source": [
        "**Placide Imanzi**\n",
        "\n",
        "<img src=\"https://github.com/ngabo-dev/water-model-peer-group-4/raw/main/placide_commits.png\" width=\"500\"/>\n"
      ],
      "metadata": {
        "id": "czu-6flGVL7B"
      }
    },
    {
      "cell_type": "markdown",
      "source": [],
      "metadata": {
        "id": "1OoaxB9dVRzh"
      }
    },
    {
      "cell_type": "markdown",
      "source": [],
      "metadata": {
        "id": "NHEDLz7OVRCQ"
      }
    },
    {
      "cell_type": "markdown",
      "source": [
        "**Benitha Uwituze**\n",
        "![Uwituze Commits](https://github.com/ngabo-dev/water-model-peer-group-4/raw/main/Uwituze_commits.png)\n"
      ],
      "metadata": {
        "id": "-Jl4IZQsVSZN"
      }
    },
    {
      "cell_type": "markdown",
      "source": [],
      "metadata": {
        "id": "WAlLGqDwVnJ5"
      }
    },
    {
      "cell_type": "markdown",
      "source": [],
      "metadata": {
        "id": "_5m2EmxkVm1z"
      }
    },
    {
      "cell_type": "markdown",
      "source": [
        "**Jean Pierre Niyongabo**\n",
        "\n",
        "![Jean Pierre Commits](https://github.com/ngabo-dev/water-model-peer-group-4/raw/main/Jean_Pierre_commits.png)\n"
      ],
      "metadata": {
        "id": "vGZyiTR5VnvO"
      }
    },
    {
      "cell_type": "markdown",
      "source": [],
      "metadata": {
        "id": "vvwEvmPMV8c0"
      }
    },
    {
      "cell_type": "markdown",
      "source": [],
      "metadata": {
        "id": "t8iFMo7vV8-B"
      }
    },
    {
      "cell_type": "markdown",
      "source": [
        "** Nhial  Riak Majok**\n",
        "\n",
        "![Nhial Majok Riak Commits](https://github.com/ngabo-dev/water-model-peer-group-4/raw/main/riak_commits.png)\n"
      ],
      "metadata": {
        "id": "78kbu54wV8Iv"
      }
    },
    {
      "cell_type": "markdown",
      "source": [],
      "metadata": {
        "id": "chIQmSf8WWOW"
      }
    },
    {
      "cell_type": "markdown",
      "source": [],
      "metadata": {
        "id": "wBy1nmqDWXJX"
      }
    },
    {
      "cell_type": "markdown",
      "source": [
        "**Prince Rurangwa**\n",
        "\n",
        "![Prince Commits](https://github.com/ngabo-dev/water-model-peer-group-4/raw/main/prince_commits.png)\n"
      ],
      "metadata": {
        "id": "Ua_AkhBXWVtM"
      }
    }
  ]
}