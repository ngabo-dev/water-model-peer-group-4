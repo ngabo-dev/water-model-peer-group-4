{
  "cells": [
    {
      "cell_type": "markdown",
      "metadata": {
        "id": "hrXv0rU9sIma"
      },
      "source": [
        "# Excercise - Creating our own custom Model"
      ]
    },
    {
      "cell_type": "markdown",
      "metadata": {
        "id": "iJyZUDbzBTIG"
      },
      "source": [
        "This is a notebook that provides a quick overview of how to create your own custom model. You will be creating a simple model.\n",
        "You will be utilizing Keras and Tensorflow\n"
      ]
    },
    {
      "cell_type": "markdown",
      "metadata": {
        "id": "gvLegMMvBZYg"
      },
      "source": [
        "## Water Quality Dataset\n",
        "\n",
        "This dataset contains water quality measurements and assessments related to potability, which is the suitability of water for human consumption. The dataset's primary objective is to provide insights into water quality parameters and assist in determining whether the water is potable or not. Each row in the dataset represents a water sample with specific attributes, and the \"Potability\" column indicates whether the water is suitable for consumption.\n",
        "\n",
        "https://www.kaggle.com/datasets/uom190346a/water-quality-and-potability?select=water_potability.csv\n"
      ]
    },
    {
      "cell_type": "code",
      "execution_count": null,
      "metadata": {},
      "outputs": [],
      "source": [
        "%pip install tensorflow"
      ]
    },
    {
      "cell_type": "code",
      "execution_count": 9,
      "metadata": {
        "id": "CPbSYW1U1mfn"
      },
      "outputs": [],
      "source": [
        "import pandas as pd\n",
        "from sklearn.model_selection import train_test_split\n",
        "from sklearn.preprocessing import StandardScaler\n",
        "from sklearn.metrics import classification_report, f1_score, precision_score, recall_score\n",
        "import tensorflow as tf\n",
        "from tensorflow import keras\n",
        "from tensorflow.keras import layers\n",
        "from tensorflow.keras.regularizers import l2\n",
        "from tensorflow.keras.callbacks import EarlyStopping\n",
        "import matplotlib.pyplot as plt\n",
        "import numpy as np\n",
        "from google.colab import drive"
      ]
    },
    {
      "cell_type": "code",
      "execution_count": null,
      "metadata": {
        "colab": {
          "base_uri": "https://localhost:8080/"
        },
        "id": "Qvnx0_dT3JEq",
        "outputId": "e2a49c80-09aa-41d0-bdd5-304aff648b38"
      },
      "outputs": [
        {
          "name": "stdout",
          "output_type": "stream",
          "text": [
            "Drive already mounted at /content/drive; to attempt to forcibly remount, call drive.mount(\"/content/drive\", force_remount=True).\n",
            "Dataset shape: (3276, 10)\n",
            "\n",
            "Dataset info:\n",
            "<class 'pandas.core.frame.DataFrame'>\n",
            "RangeIndex: 3276 entries, 0 to 3275\n",
            "Data columns (total 10 columns):\n",
            " #   Column           Non-Null Count  Dtype  \n",
            "---  ------           --------------  -----  \n",
            " 0   ph               2785 non-null   float64\n",
            " 1   Hardness         3276 non-null   float64\n",
            " 2   Solids           3276 non-null   float64\n",
            " 3   Chloramines      3276 non-null   float64\n",
            " 4   Sulfate          2495 non-null   float64\n",
            " 5   Conductivity     3276 non-null   float64\n",
            " 6   Organic_carbon   3276 non-null   float64\n",
            " 7   Trihalomethanes  3114 non-null   float64\n",
            " 8   Turbidity        3276 non-null   float64\n",
            " 9   Potability       3276 non-null   int64  \n",
            "dtypes: float64(9), int64(1)\n",
            "memory usage: 256.1 KB\n",
            "None\n",
            "\n",
            "Target distribution:\n",
            "            ph    Hardness        Solids  Chloramines     Sulfate  \\\n",
            "0          NaN  204.890455  20791.318981     7.300212  368.516441   \n",
            "1     3.716080  129.422921  18630.057858     6.635246         NaN   \n",
            "2     8.099124  224.236259  19909.541732     9.275884         NaN   \n",
            "3     8.316766  214.373394  22018.417441     8.059332  356.886136   \n",
            "4     9.092223  181.101509  17978.986339     6.546600  310.135738   \n",
            "...        ...         ...           ...          ...         ...   \n",
            "3271  4.668102  193.681735  47580.991603     7.166639  359.948574   \n",
            "3272  7.808856  193.553212  17329.802160     8.061362         NaN   \n",
            "3273  9.419510  175.762646  33155.578218     7.350233         NaN   \n",
            "3274  5.126763  230.603758  11983.869376     6.303357         NaN   \n",
            "3275  7.874671  195.102299  17404.177061     7.509306         NaN   \n",
            "\n",
            "      Conductivity  Organic_carbon  Trihalomethanes  Turbidity  Potability  \n",
            "0       564.308654       10.379783        86.990970   2.963135           0  \n",
            "1       592.885359       15.180013        56.329076   4.500656           0  \n",
            "2       418.606213       16.868637        66.420093   3.055934           0  \n",
            "3       363.266516       18.436524       100.341674   4.628771           0  \n",
            "4       398.410813       11.558279        31.997993   4.075075           0  \n",
            "...            ...             ...              ...        ...         ...  \n",
            "3271    526.424171       13.894419        66.687695   4.435821           1  \n",
            "3272    392.449580       19.903225              NaN   2.798243           1  \n",
            "3273    432.044783       11.039070        69.845400   3.298875           1  \n",
            "3274    402.883113       11.168946        77.488213   4.708658           1  \n",
            "3275    327.459760       16.140368        78.698446   2.309149           1  \n",
            "\n",
            "[3276 rows x 10 columns]\n"
          ]
        }
      ],
      "source": [
        "data = pd.read_csv('water_potability.csv')\n",
        "\n",
        "print(\"Dataset shape:\", data.shape)\n",
        "print(\"\\nDataset info:\")\n",
        "print(data.info())\n",
        "print(\"\\nTarget distribution:\")\n",
        "print(data)"
      ]
    },
    {
      "cell_type": "markdown",
      "metadata": {
        "id": "JaWE9xKb-MhD"
      },
      "source": [
        "Data Preprocessing"
      ]
    },
    {
      "cell_type": "code",
      "execution_count": 11,
      "metadata": {
        "colab": {
          "base_uri": "https://localhost:8080/"
        },
        "id": "233HdERE96ID",
        "outputId": "3d7169fb-df1f-46a3-93e0-db57f70c75cf"
      },
      "outputs": [
        {
          "name": "stdout",
          "output_type": "stream",
          "text": [
            "Missing values before preprocessing:\n",
            "ph                 491\n",
            "Hardness             0\n",
            "Solids               0\n",
            "Chloramines          0\n",
            "Sulfate            781\n",
            "Conductivity         0\n",
            "Organic_carbon       0\n",
            "Trihalomethanes    162\n",
            "Turbidity            0\n",
            "Potability           0\n",
            "dtype: int64\n",
            "\n",
            "Missing values after preprocessing:\n",
            "ph                 0\n",
            "Hardness           0\n",
            "Solids             0\n",
            "Chloramines        0\n",
            "Sulfate            0\n",
            "Conductivity       0\n",
            "Organic_carbon     0\n",
            "Trihalomethanes    0\n",
            "Turbidity          0\n",
            "Potability         0\n",
            "dtype: int64\n",
            "\n",
            "Features shape: (3276, 9)\n",
            "Target shape: (3276,)\n",
            "\n",
            "Features have been scaled using StandardScaler\n"
          ]
        }
      ],
      "source": [
        "# data.fillna(data.mean(), inplace=True)\n",
        "# X = data.drop(\"Potability\", axis=1)\n",
        "# y = data[\"Potability\"]\n",
        "# scaler = StandardScaler()\n",
        "# X_scaled = scaler.fit_transform(X)\n",
        "\n",
        "print(\"Missing values before preprocessing:\")\n",
        "print(data.isnull().sum())\n",
        "\n",
        "data.fillna(data.mean(), inplace=True)\n",
        "\n",
        "print(\"\\nMissing values after preprocessing:\")\n",
        "print(data.isnull().sum())\n",
        "\n",
        "# Split dataset into features (X) and target labels (Y)\n",
        "X = data.drop(\"Potability\", axis=1)\n",
        "y = data[\"Potability\"]\n",
        "\n",
        "print(f\"\\nFeatures shape: {X.shape}\")\n",
        "print(f\"Target shape: {y.shape}\")\n",
        "\n",
        "# Scale the features\n",
        "scaler = StandardScaler()\n",
        "X_scaled = scaler.fit_transform(X)\n",
        "print(\"\\nFeatures have been scaled using StandardScaler\")"
      ]
    },
    {
      "cell_type": "markdown",
      "metadata": {
        "id": "2QfR0r8cGVU7"
      },
      "source": [
        "Plot the Data Appropriately"
      ]
    },
    {
      "cell_type": "code",
      "execution_count": 12,
      "metadata": {
        "colab": {
          "base_uri": "https://localhost:8080/"
        },
        "id": "wfSk1lXRYjrh",
        "outputId": "ad676660-ba7a-4320-bf82-e02ec9de0b02"
      },
      "outputs": [
        {
          "name": "stdout",
          "output_type": "stream",
          "text": [
            "Training set size: 2293 samples (70.0%)\n",
            "Validation set size: 491 samples (15.0%)\n",
            "Test set size: 492 samples (15.0%)\n",
            "\n",
            "Training set shape: (2293, 9)\n",
            "Validation set shape: (491, 9)\n",
            "Test set shape: (492, 9)\n"
          ]
        }
      ],
      "source": [
        "\n",
        "# #from sklearn import train_test_split\n",
        "# X_train, X_test, y_train, y_test = train_test_split(X_scaled, y, test_size=0.15, random_state=42)\n",
        "\n",
        "# First split: 70% train, 30% temp\n",
        "X_train, X_temp, y_train, y_temp = train_test_split(X_scaled, y, test_size=0.30, random_state=42)\n",
        "\n",
        "# Second split: Split the 30% temp into 15% validation and 15% test\n",
        "X_val, X_test, y_val, y_test = train_test_split(X_temp, y_temp, test_size=0.50, random_state=42)\n",
        "\n",
        "print(f\"Training set size: {len(X_train)} samples ({len(X_train)/len(X_scaled)*100:.1f}%)\")\n",
        "print(f\"Validation set size: {len(X_val)} samples ({len(X_val)/len(X_scaled)*100:.1f}%)\")\n",
        "print(f\"Test set size: {len(X_test)} samples ({len(X_test)/len(X_scaled)*100:.1f}%)\")\n",
        "\n",
        "print(f\"\\nTraining set shape: {X_train.shape}\")\n",
        "print(f\"Validation set shape: {X_val.shape}\")\n",
        "print(f\"Test set shape: {X_test.shape}\")\n"
      ]
    },
    {
      "cell_type": "markdown",
      "metadata": {
        "id": "LvjIHLrcGhzc"
      },
      "source": [
        "# Each Memeber Defines their model Here"
      ]
    },
    {
      "cell_type": "code",
      "execution_count": 13,
      "metadata": {
        "id": "FLwYoJG9jvDa"
      },
      "outputs": [],
      "source": [
        "def benitha():\n",
        "    \"\"\"\n",
        "    Creates a neural network model for water quality classification with specified hyperparameters:\n",
        "\n",
        "    HYPERPARAMETER CHOICES:\n",
        "    - Regularization: L2 (0.01) - Prevents overfitting by penalizing large weights\n",
        "    - Optimizer: Adam with learning rate 0.0005 - Conservative learning rate for stable convergence\n",
        "    - Loss: binary_crossentropy - Appropriate for binary classification\n",
        "    - Metrics: accuracy - Standard metric for classification problems\n",
        "    - Dropout: 0.3 - 30% dropout rate for regularization without being too aggressive\n",
        "    - Architecture: 64->32->16->1 neurons - Decreasing layer sizes for feature extraction\n",
        "    \"\"\"\n",
        "\n",
        "    # Get input shape from the features (9 features in water quality dataset)\n",
        "    input_shape = X_train.shape[1]\n",
        "\n",
        "    # Build the neural network architecture\n",
        "    model = keras.Sequential([\n",
        "        # Input layer\n",
        "        layers.Dense(64,\n",
        "                    activation='relu',\n",
        "                    input_shape=(input_shape,),\n",
        "                    kernel_regularizer=l2(0.01),\n",
        "                    name='hidden_layer_1'),\n",
        "\n",
        "        # Dropout for regularization\n",
        "        layers.Dropout(0.3, name='dropout_1'),\n",
        "\n",
        "        # Second hidden layer\n",
        "        layers.Dense(32,\n",
        "                    activation='relu',\n",
        "                    kernel_regularizer=l2(0.01),\n",
        "                    name='hidden_layer_2'),\n",
        "\n",
        "        # Dropout for regularization\n",
        "        layers.Dropout(0.3, name='dropout_2'),\n",
        "\n",
        "        # Third hidden layer\n",
        "        layers.Dense(16,\n",
        "                    activation='relu',\n",
        "                    kernel_regularizer=l2(0.01),\n",
        "                    name='hidden_layer_3'),\n",
        "\n",
        "        # Output layer for binary classification (potable vs non-potable)\n",
        "        layers.Dense(1, activation='sigmoid', name='output_layer')\n",
        "    ])\n",
        "\n",
        "    # Compile the model with specified hyperparameters\n",
        "    model.compile(\n",
        "        optimizer=keras.optimizers.Adam(learning_rate=0.001),\n",
        "        loss='binary_crossentropy',\n",
        "        metrics=['accuracy']\n",
        "    )\n",
        "\n",
        "    return model"
      ]
    },
    {
      "cell_type": "code",
      "execution_count": 14,
      "metadata": {
        "colab": {
          "base_uri": "https://localhost:8080/"
        },
        "id": "hmWIUNw0-l0y",
        "outputId": "e46d959f-2408-49a3-d54d-7744277d00a1"
      },
      "outputs": [
        {
          "name": "stdout",
          "output_type": "stream",
          "text": [
            "BENITHA'S HYPERPARAMETER CHOICES AND JUSTIFICATIONS:\n",
            "============================================================\n",
            "1. REGULARIZATION - L2 (coefficient: 0.01):\n",
            "   - Chosen to prevent overfitting by adding penalty for large weights\n",
            "   - L2 regularization creates smoother decision boundaries\n",
            "   - Coefficient 0.01 provides moderate regularization without being too restrictive\n",
            "\n",
            "2. OPTIMIZER - Adam (learning_rate: 0.0005):\n",
            "   - Adam combines benefits of AdaGrad and RMSProp with momentum\n",
            "   - Learning rate 0.0005 is conservative (lower than default 0.001)\n",
            "   - Ensures stable convergence without overshooting optimal weights\n",
            "\n",
            "3. DROPOUT RATE - 0.3:\n",
            "   - 30% dropout rate provides effective regularization\n",
            "   - Not too aggressive (like 0.5) which could harm learning\n",
            "   - Applied after each hidden layer for consistent regularization\n",
            "\n",
            "4. EARLY STOPPING PARAMETERS:\n",
            "   - Monitor: 'val_loss' - Stops training when validation loss stops improving\n",
            "   - Patience: 10 - Allows 10 epochs without improvement before stopping\n",
            "   - Min_delta: 0.001 - Only improvements >0.001 are considered significant\n",
            "   - This prevents overfitting and saves computational resources\n"
          ]
        }
      ],
      "source": [
        "print(\"BENITHA'S HYPERPARAMETER CHOICES AND JUSTIFICATIONS:\")\n",
        "print(\"=\"*60)\n",
        "print(\"1. REGULARIZATION - L2 (coefficient: 0.01):\")\n",
        "print(\"   - Chosen to prevent overfitting by adding penalty for large weights\")\n",
        "print(\"   - L2 regularization creates smoother decision boundaries\")\n",
        "print(\"   - Coefficient 0.01 provides moderate regularization without being too restrictive\")\n",
        "\n",
        "print(\"\\n2. OPTIMIZER - Adam (learning_rate: 0.0005):\")\n",
        "print(\"   - Adam combines benefits of AdaGrad and RMSProp with momentum\")\n",
        "print(\"   - Learning rate 0.0005 is conservative (lower than default 0.001)\")\n",
        "print(\"   - Ensures stable convergence without overshooting optimal weights\")\n",
        "\n",
        "print(\"\\n3. DROPOUT RATE - 0.3:\")\n",
        "print(\"   - 30% dropout rate provides effective regularization\")\n",
        "print(\"   - Not too aggressive (like 0.5) which could harm learning\")\n",
        "print(\"   - Applied after each hidden layer for consistent regularization\")\n",
        "\n",
        "print(\"\\n4. EARLY STOPPING PARAMETERS:\")\n",
        "print(\"   - Monitor: 'val_loss' - Stops training when validation loss stops improving\")\n",
        "print(\"   - Patience: 10 - Allows 10 epochs without improvement before stopping\")\n",
        "print(\"   - Min_delta: 0.001 - Only improvements >0.001 are considered significant\")\n",
        "print(\"   - This prevents overfitting and saves computational resources\")"
      ]
    },
    {
      "cell_type": "markdown",
      "metadata": {
        "id": "hDSPmAB9jkrG"
      },
      "source": [
        "# Start the training Process"
      ]
    },
    {
      "cell_type": "code",
      "execution_count": 15,
      "metadata": {
        "colab": {
          "base_uri": "https://localhost:8080/",
          "height": 1000
        },
        "id": "OWQHapf3jlYH",
        "outputId": "0204ed55-fe0f-4235-9d62-b0f3db88624d"
      },
      "outputs": [
        {
          "name": "stdout",
          "output_type": "stream",
          "text": [
            "MODEL ARCHITECTURE:\n"
          ]
        },
        {
          "name": "stderr",
          "output_type": "stream",
          "text": [
            "/usr/local/lib/python3.11/dist-packages/keras/src/layers/core/dense.py:87: UserWarning: Do not pass an `input_shape`/`input_dim` argument to a layer. When using Sequential models, prefer using an `Input(shape)` object as the first layer in the model instead.\n",
            "  super().__init__(activity_regularizer=activity_regularizer, **kwargs)\n"
          ]
        },
        {
          "data": {
            "text/html": [
              "<pre style=\"white-space:pre;overflow-x:auto;line-height:normal;font-family:Menlo,'DejaVu Sans Mono',consolas,'Courier New',monospace\"><span style=\"font-weight: bold\">Model: \"sequential\"</span>\n",
              "</pre>\n"
            ],
            "text/plain": [
              "\u001b[1mModel: \"sequential\"\u001b[0m\n"
            ]
          },
          "metadata": {},
          "output_type": "display_data"
        },
        {
          "data": {
            "text/html": [
              "<pre style=\"white-space:pre;overflow-x:auto;line-height:normal;font-family:Menlo,'DejaVu Sans Mono',consolas,'Courier New',monospace\">┏━━━━━━━━━━━━━━━━━━━━━━━━━━━━━━━━━┳━━━━━━━━━━━━━━━━━━━━━━━━┳━━━━━━━━━━━━━━━┓\n",
              "┃<span style=\"font-weight: bold\"> Layer (type)                    </span>┃<span style=\"font-weight: bold\"> Output Shape           </span>┃<span style=\"font-weight: bold\">       Param # </span>┃\n",
              "┡━━━━━━━━━━━━━━━━━━━━━━━━━━━━━━━━━╇━━━━━━━━━━━━━━━━━━━━━━━━╇━━━━━━━━━━━━━━━┩\n",
              "│ hidden_layer_1 (<span style=\"color: #0087ff; text-decoration-color: #0087ff\">Dense</span>)          │ (<span style=\"color: #00d7ff; text-decoration-color: #00d7ff\">None</span>, <span style=\"color: #00af00; text-decoration-color: #00af00\">64</span>)             │           <span style=\"color: #00af00; text-decoration-color: #00af00\">640</span> │\n",
              "├─────────────────────────────────┼────────────────────────┼───────────────┤\n",
              "│ dropout_1 (<span style=\"color: #0087ff; text-decoration-color: #0087ff\">Dropout</span>)             │ (<span style=\"color: #00d7ff; text-decoration-color: #00d7ff\">None</span>, <span style=\"color: #00af00; text-decoration-color: #00af00\">64</span>)             │             <span style=\"color: #00af00; text-decoration-color: #00af00\">0</span> │\n",
              "├─────────────────────────────────┼────────────────────────┼───────────────┤\n",
              "│ hidden_layer_2 (<span style=\"color: #0087ff; text-decoration-color: #0087ff\">Dense</span>)          │ (<span style=\"color: #00d7ff; text-decoration-color: #00d7ff\">None</span>, <span style=\"color: #00af00; text-decoration-color: #00af00\">32</span>)             │         <span style=\"color: #00af00; text-decoration-color: #00af00\">2,080</span> │\n",
              "├─────────────────────────────────┼────────────────────────┼───────────────┤\n",
              "│ dropout_2 (<span style=\"color: #0087ff; text-decoration-color: #0087ff\">Dropout</span>)             │ (<span style=\"color: #00d7ff; text-decoration-color: #00d7ff\">None</span>, <span style=\"color: #00af00; text-decoration-color: #00af00\">32</span>)             │             <span style=\"color: #00af00; text-decoration-color: #00af00\">0</span> │\n",
              "├─────────────────────────────────┼────────────────────────┼───────────────┤\n",
              "│ hidden_layer_3 (<span style=\"color: #0087ff; text-decoration-color: #0087ff\">Dense</span>)          │ (<span style=\"color: #00d7ff; text-decoration-color: #00d7ff\">None</span>, <span style=\"color: #00af00; text-decoration-color: #00af00\">16</span>)             │           <span style=\"color: #00af00; text-decoration-color: #00af00\">528</span> │\n",
              "├─────────────────────────────────┼────────────────────────┼───────────────┤\n",
              "│ output_layer (<span style=\"color: #0087ff; text-decoration-color: #0087ff\">Dense</span>)            │ (<span style=\"color: #00d7ff; text-decoration-color: #00d7ff\">None</span>, <span style=\"color: #00af00; text-decoration-color: #00af00\">1</span>)              │            <span style=\"color: #00af00; text-decoration-color: #00af00\">17</span> │\n",
              "└─────────────────────────────────┴────────────────────────┴───────────────┘\n",
              "</pre>\n"
            ],
            "text/plain": [
              "┏━━━━━━━━━━━━━━━━━━━━━━━━━━━━━━━━━┳━━━━━━━━━━━━━━━━━━━━━━━━┳━━━━━━━━━━━━━━━┓\n",
              "┃\u001b[1m \u001b[0m\u001b[1mLayer (type)                   \u001b[0m\u001b[1m \u001b[0m┃\u001b[1m \u001b[0m\u001b[1mOutput Shape          \u001b[0m\u001b[1m \u001b[0m┃\u001b[1m \u001b[0m\u001b[1m      Param #\u001b[0m\u001b[1m \u001b[0m┃\n",
              "┡━━━━━━━━━━━━━━━━━━━━━━━━━━━━━━━━━╇━━━━━━━━━━━━━━━━━━━━━━━━╇━━━━━━━━━━━━━━━┩\n",
              "│ hidden_layer_1 (\u001b[38;5;33mDense\u001b[0m)          │ (\u001b[38;5;45mNone\u001b[0m, \u001b[38;5;34m64\u001b[0m)             │           \u001b[38;5;34m640\u001b[0m │\n",
              "├─────────────────────────────────┼────────────────────────┼───────────────┤\n",
              "│ dropout_1 (\u001b[38;5;33mDropout\u001b[0m)             │ (\u001b[38;5;45mNone\u001b[0m, \u001b[38;5;34m64\u001b[0m)             │             \u001b[38;5;34m0\u001b[0m │\n",
              "├─────────────────────────────────┼────────────────────────┼───────────────┤\n",
              "│ hidden_layer_2 (\u001b[38;5;33mDense\u001b[0m)          │ (\u001b[38;5;45mNone\u001b[0m, \u001b[38;5;34m32\u001b[0m)             │         \u001b[38;5;34m2,080\u001b[0m │\n",
              "├─────────────────────────────────┼────────────────────────┼───────────────┤\n",
              "│ dropout_2 (\u001b[38;5;33mDropout\u001b[0m)             │ (\u001b[38;5;45mNone\u001b[0m, \u001b[38;5;34m32\u001b[0m)             │             \u001b[38;5;34m0\u001b[0m │\n",
              "├─────────────────────────────────┼────────────────────────┼───────────────┤\n",
              "│ hidden_layer_3 (\u001b[38;5;33mDense\u001b[0m)          │ (\u001b[38;5;45mNone\u001b[0m, \u001b[38;5;34m16\u001b[0m)             │           \u001b[38;5;34m528\u001b[0m │\n",
              "├─────────────────────────────────┼────────────────────────┼───────────────┤\n",
              "│ output_layer (\u001b[38;5;33mDense\u001b[0m)            │ (\u001b[38;5;45mNone\u001b[0m, \u001b[38;5;34m1\u001b[0m)              │            \u001b[38;5;34m17\u001b[0m │\n",
              "└─────────────────────────────────┴────────────────────────┴───────────────┘\n"
            ]
          },
          "metadata": {},
          "output_type": "display_data"
        },
        {
          "data": {
            "text/html": [
              "<pre style=\"white-space:pre;overflow-x:auto;line-height:normal;font-family:Menlo,'DejaVu Sans Mono',consolas,'Courier New',monospace\"><span style=\"font-weight: bold\"> Total params: </span><span style=\"color: #00af00; text-decoration-color: #00af00\">3,265</span> (12.75 KB)\n",
              "</pre>\n"
            ],
            "text/plain": [
              "\u001b[1m Total params: \u001b[0m\u001b[38;5;34m3,265\u001b[0m (12.75 KB)\n"
            ]
          },
          "metadata": {},
          "output_type": "display_data"
        },
        {
          "data": {
            "text/html": [
              "<pre style=\"white-space:pre;overflow-x:auto;line-height:normal;font-family:Menlo,'DejaVu Sans Mono',consolas,'Courier New',monospace\"><span style=\"font-weight: bold\"> Trainable params: </span><span style=\"color: #00af00; text-decoration-color: #00af00\">3,265</span> (12.75 KB)\n",
              "</pre>\n"
            ],
            "text/plain": [
              "\u001b[1m Trainable params: \u001b[0m\u001b[38;5;34m3,265\u001b[0m (12.75 KB)\n"
            ]
          },
          "metadata": {},
          "output_type": "display_data"
        },
        {
          "data": {
            "text/html": [
              "<pre style=\"white-space:pre;overflow-x:auto;line-height:normal;font-family:Menlo,'DejaVu Sans Mono',consolas,'Courier New',monospace\"><span style=\"font-weight: bold\"> Non-trainable params: </span><span style=\"color: #00af00; text-decoration-color: #00af00\">0</span> (0.00 B)\n",
              "</pre>\n"
            ],
            "text/plain": [
              "\u001b[1m Non-trainable params: \u001b[0m\u001b[38;5;34m0\u001b[0m (0.00 B)\n"
            ]
          },
          "metadata": {},
          "output_type": "display_data"
        },
        {
          "name": "stdout",
          "output_type": "stream",
          "text": [
            "\n",
            "Starting model training...\n",
            "Epoch 1/200\n",
            "\u001b[1m72/72\u001b[0m \u001b[32m━━━━━━━━━━━━━━━━━━━━\u001b[0m\u001b[37m\u001b[0m \u001b[1m3s\u001b[0m 8ms/step - accuracy: 0.4945 - loss: 1.4596 - val_accuracy: 0.6314 - val_loss: 1.1980\n",
            "Epoch 2/200\n",
            "\u001b[1m72/72\u001b[0m \u001b[32m━━━━━━━━━━━━━━━━━━━━\u001b[0m\u001b[37m\u001b[0m \u001b[1m1s\u001b[0m 4ms/step - accuracy: 0.6006 - loss: 1.1582 - val_accuracy: 0.6314 - val_loss: 0.9994\n",
            "Epoch 3/200\n",
            "\u001b[1m72/72\u001b[0m \u001b[32m━━━━━━━━━━━━━━━━━━━━\u001b[0m\u001b[37m\u001b[0m \u001b[1m0s\u001b[0m 5ms/step - accuracy: 0.6155 - loss: 0.9759 - val_accuracy: 0.6334 - val_loss: 0.8715\n",
            "Epoch 4/200\n",
            "\u001b[1m72/72\u001b[0m \u001b[32m━━━━━━━━━━━━━━━━━━━━\u001b[0m\u001b[37m\u001b[0m \u001b[1m1s\u001b[0m 4ms/step - accuracy: 0.6348 - loss: 0.8535 - val_accuracy: 0.6354 - val_loss: 0.7925\n",
            "Epoch 5/200\n",
            "\u001b[1m72/72\u001b[0m \u001b[32m━━━━━━━━━━━━━━━━━━━━\u001b[0m\u001b[37m\u001b[0m \u001b[1m1s\u001b[0m 5ms/step - accuracy: 0.6160 - loss: 0.7926 - val_accuracy: 0.6436 - val_loss: 0.7429\n",
            "Epoch 6/200\n",
            "\u001b[1m72/72\u001b[0m \u001b[32m━━━━━━━━━━━━━━━━━━━━\u001b[0m\u001b[37m\u001b[0m \u001b[1m0s\u001b[0m 4ms/step - accuracy: 0.6018 - loss: 0.7522 - val_accuracy: 0.6415 - val_loss: 0.7106\n",
            "Epoch 7/200\n",
            "\u001b[1m72/72\u001b[0m \u001b[32m━━━━━━━━━━━━━━━━━━━━\u001b[0m\u001b[37m\u001b[0m \u001b[1m1s\u001b[0m 8ms/step - accuracy: 0.6297 - loss: 0.7142 - val_accuracy: 0.6456 - val_loss: 0.6902\n",
            "Epoch 8/200\n",
            "\u001b[1m72/72\u001b[0m \u001b[32m━━━━━━━━━━━━━━━━━━━━\u001b[0m\u001b[37m\u001b[0m \u001b[1m1s\u001b[0m 8ms/step - accuracy: 0.6224 - loss: 0.7003 - val_accuracy: 0.6538 - val_loss: 0.6767\n",
            "Epoch 9/200\n",
            "\u001b[1m72/72\u001b[0m \u001b[32m━━━━━━━━━━━━━━━━━━━━\u001b[0m\u001b[37m\u001b[0m \u001b[1m1s\u001b[0m 7ms/step - accuracy: 0.6511 - loss: 0.6802 - val_accuracy: 0.6619 - val_loss: 0.6638\n",
            "Epoch 10/200\n",
            "\u001b[1m72/72\u001b[0m \u001b[32m━━━━━━━━━━━━━━━━━━━━\u001b[0m\u001b[37m\u001b[0m \u001b[1m1s\u001b[0m 6ms/step - accuracy: 0.6206 - loss: 0.6858 - val_accuracy: 0.6640 - val_loss: 0.6567\n",
            "Epoch 11/200\n",
            "\u001b[1m72/72\u001b[0m \u001b[32m━━━━━━━━━━━━━━━━━━━━\u001b[0m\u001b[37m\u001b[0m \u001b[1m1s\u001b[0m 7ms/step - accuracy: 0.6398 - loss: 0.6787 - val_accuracy: 0.6619 - val_loss: 0.6500\n",
            "Epoch 12/200\n",
            "\u001b[1m72/72\u001b[0m \u001b[32m━━━━━━━━━━━━━━━━━━━━\u001b[0m\u001b[37m\u001b[0m \u001b[1m1s\u001b[0m 6ms/step - accuracy: 0.6734 - loss: 0.6533 - val_accuracy: 0.6680 - val_loss: 0.6472\n",
            "Epoch 13/200\n",
            "\u001b[1m72/72\u001b[0m \u001b[32m━━━━━━━━━━━━━━━━━━━━\u001b[0m\u001b[37m\u001b[0m \u001b[1m0s\u001b[0m 4ms/step - accuracy: 0.6630 - loss: 0.6644 - val_accuracy: 0.6741 - val_loss: 0.6424\n",
            "Epoch 14/200\n",
            "\u001b[1m72/72\u001b[0m \u001b[32m━━━━━━━━━━━━━━━━━━━━\u001b[0m\u001b[37m\u001b[0m \u001b[1m1s\u001b[0m 4ms/step - accuracy: 0.6385 - loss: 0.6686 - val_accuracy: 0.6904 - val_loss: 0.6389\n",
            "Epoch 15/200\n",
            "\u001b[1m72/72\u001b[0m \u001b[32m━━━━━━━━━━━━━━━━━━━━\u001b[0m\u001b[37m\u001b[0m \u001b[1m0s\u001b[0m 4ms/step - accuracy: 0.6493 - loss: 0.6660 - val_accuracy: 0.6843 - val_loss: 0.6362\n",
            "Epoch 16/200\n",
            "\u001b[1m72/72\u001b[0m \u001b[32m━━━━━━━━━━━━━━━━━━━━\u001b[0m\u001b[37m\u001b[0m \u001b[1m0s\u001b[0m 4ms/step - accuracy: 0.6822 - loss: 0.6533 - val_accuracy: 0.7026 - val_loss: 0.6368\n",
            "Epoch 17/200\n",
            "\u001b[1m72/72\u001b[0m \u001b[32m━━━━━━━━━━━━━━━━━━━━\u001b[0m\u001b[37m\u001b[0m \u001b[1m0s\u001b[0m 4ms/step - accuracy: 0.6558 - loss: 0.6546 - val_accuracy: 0.6904 - val_loss: 0.6344\n",
            "Epoch 18/200\n",
            "\u001b[1m72/72\u001b[0m \u001b[32m━━━━━━━━━━━━━━━━━━━━\u001b[0m\u001b[37m\u001b[0m \u001b[1m1s\u001b[0m 4ms/step - accuracy: 0.6578 - loss: 0.6573 - val_accuracy: 0.6741 - val_loss: 0.6336\n",
            "Epoch 19/200\n",
            "\u001b[1m72/72\u001b[0m \u001b[32m━━━━━━━━━━━━━━━━━━━━\u001b[0m\u001b[37m\u001b[0m \u001b[1m1s\u001b[0m 4ms/step - accuracy: 0.6627 - loss: 0.6546 - val_accuracy: 0.6986 - val_loss: 0.6340\n",
            "Epoch 20/200\n",
            "\u001b[1m72/72\u001b[0m \u001b[32m━━━━━━━━━━━━━━━━━━━━\u001b[0m\u001b[37m\u001b[0m \u001b[1m1s\u001b[0m 4ms/step - accuracy: 0.6729 - loss: 0.6524 - val_accuracy: 0.6884 - val_loss: 0.6323\n",
            "Epoch 21/200\n",
            "\u001b[1m72/72\u001b[0m \u001b[32m━━━━━━━━━━━━━━━━━━━━\u001b[0m\u001b[37m\u001b[0m \u001b[1m0s\u001b[0m 4ms/step - accuracy: 0.6675 - loss: 0.6533 - val_accuracy: 0.6782 - val_loss: 0.6320\n",
            "Epoch 22/200\n",
            "\u001b[1m72/72\u001b[0m \u001b[32m━━━━━━━━━━━━━━━━━━━━\u001b[0m\u001b[37m\u001b[0m \u001b[1m1s\u001b[0m 4ms/step - accuracy: 0.6662 - loss: 0.6600 - val_accuracy: 0.6904 - val_loss: 0.6270\n",
            "Epoch 23/200\n",
            "\u001b[1m72/72\u001b[0m \u001b[32m━━━━━━━━━━━━━━━━━━━━\u001b[0m\u001b[37m\u001b[0m \u001b[1m0s\u001b[0m 4ms/step - accuracy: 0.6518 - loss: 0.6559 - val_accuracy: 0.6782 - val_loss: 0.6302\n",
            "Epoch 24/200\n",
            "\u001b[1m72/72\u001b[0m \u001b[32m━━━━━━━━━━━━━━━━━━━━\u001b[0m\u001b[37m\u001b[0m \u001b[1m1s\u001b[0m 4ms/step - accuracy: 0.6738 - loss: 0.6419 - val_accuracy: 0.7006 - val_loss: 0.6299\n",
            "Epoch 25/200\n",
            "\u001b[1m72/72\u001b[0m \u001b[32m━━━━━━━━━━━━━━━━━━━━\u001b[0m\u001b[37m\u001b[0m \u001b[1m0s\u001b[0m 5ms/step - accuracy: 0.6851 - loss: 0.6446 - val_accuracy: 0.6823 - val_loss: 0.6292\n",
            "Epoch 26/200\n",
            "\u001b[1m72/72\u001b[0m \u001b[32m━━━━━━━━━━━━━━━━━━━━\u001b[0m\u001b[37m\u001b[0m \u001b[1m1s\u001b[0m 4ms/step - accuracy: 0.6665 - loss: 0.6429 - val_accuracy: 0.6965 - val_loss: 0.6304\n",
            "Epoch 27/200\n",
            "\u001b[1m72/72\u001b[0m \u001b[32m━━━━━━━━━━━━━━━━━━━━\u001b[0m\u001b[37m\u001b[0m \u001b[1m1s\u001b[0m 4ms/step - accuracy: 0.6765 - loss: 0.6456 - val_accuracy: 0.6802 - val_loss: 0.6277\n",
            "Epoch 28/200\n",
            "\u001b[1m72/72\u001b[0m \u001b[32m━━━━━━━━━━━━━━━━━━━━\u001b[0m\u001b[37m\u001b[0m \u001b[1m0s\u001b[0m 4ms/step - accuracy: 0.6551 - loss: 0.6633 - val_accuracy: 0.6823 - val_loss: 0.6267\n",
            "Epoch 29/200\n",
            "\u001b[1m72/72\u001b[0m \u001b[32m━━━━━━━━━━━━━━━━━━━━\u001b[0m\u001b[37m\u001b[0m \u001b[1m1s\u001b[0m 4ms/step - accuracy: 0.6787 - loss: 0.6425 - val_accuracy: 0.6843 - val_loss: 0.6277\n",
            "Epoch 30/200\n",
            "\u001b[1m72/72\u001b[0m \u001b[32m━━━━━━━━━━━━━━━━━━━━\u001b[0m\u001b[37m\u001b[0m \u001b[1m1s\u001b[0m 4ms/step - accuracy: 0.6548 - loss: 0.6544 - val_accuracy: 0.6864 - val_loss: 0.6267\n",
            "Epoch 31/200\n",
            "\u001b[1m72/72\u001b[0m \u001b[32m━━━━━━━━━━━━━━━━━━━━\u001b[0m\u001b[37m\u001b[0m \u001b[1m1s\u001b[0m 4ms/step - accuracy: 0.6720 - loss: 0.6439 - val_accuracy: 0.6945 - val_loss: 0.6258\n",
            "Epoch 32/200\n",
            "\u001b[1m72/72\u001b[0m \u001b[32m━━━━━━━━━━━━━━━━━━━━\u001b[0m\u001b[37m\u001b[0m \u001b[1m1s\u001b[0m 8ms/step - accuracy: 0.6881 - loss: 0.6384 - val_accuracy: 0.6925 - val_loss: 0.6251\n",
            "Epoch 33/200\n",
            "\u001b[1m72/72\u001b[0m \u001b[32m━━━━━━━━━━━━━━━━━━━━\u001b[0m\u001b[37m\u001b[0m \u001b[1m1s\u001b[0m 7ms/step - accuracy: 0.6531 - loss: 0.6550 - val_accuracy: 0.6741 - val_loss: 0.6270\n",
            "Epoch 34/200\n",
            "\u001b[1m72/72\u001b[0m \u001b[32m━━━━━━━━━━━━━━━━━━━━\u001b[0m\u001b[37m\u001b[0m \u001b[1m1s\u001b[0m 6ms/step - accuracy: 0.6844 - loss: 0.6386 - val_accuracy: 0.6945 - val_loss: 0.6265\n",
            "Epoch 35/200\n",
            "\u001b[1m72/72\u001b[0m \u001b[32m━━━━━━━━━━━━━━━━━━━━\u001b[0m\u001b[37m\u001b[0m \u001b[1m1s\u001b[0m 7ms/step - accuracy: 0.6815 - loss: 0.6379 - val_accuracy: 0.6904 - val_loss: 0.6264\n",
            "Epoch 36/200\n",
            "\u001b[1m72/72\u001b[0m \u001b[32m━━━━━━━━━━━━━━━━━━━━\u001b[0m\u001b[37m\u001b[0m \u001b[1m1s\u001b[0m 8ms/step - accuracy: 0.6652 - loss: 0.6542 - val_accuracy: 0.6802 - val_loss: 0.6266\n",
            "Epoch 37/200\n",
            "\u001b[1m72/72\u001b[0m \u001b[32m━━━━━━━━━━━━━━━━━━━━\u001b[0m\u001b[37m\u001b[0m \u001b[1m1s\u001b[0m 8ms/step - accuracy: 0.6830 - loss: 0.6348 - val_accuracy: 0.6823 - val_loss: 0.6266\n",
            "Epoch 38/200\n",
            "\u001b[1m72/72\u001b[0m \u001b[32m━━━━━━━━━━━━━━━━━━━━\u001b[0m\u001b[37m\u001b[0m \u001b[1m0s\u001b[0m 4ms/step - accuracy: 0.6655 - loss: 0.6448 - val_accuracy: 0.6864 - val_loss: 0.6235\n",
            "Epoch 39/200\n",
            "\u001b[1m72/72\u001b[0m \u001b[32m━━━━━━━━━━━━━━━━━━━━\u001b[0m\u001b[37m\u001b[0m \u001b[1m1s\u001b[0m 4ms/step - accuracy: 0.6645 - loss: 0.6477 - val_accuracy: 0.6741 - val_loss: 0.6249\n",
            "Epoch 40/200\n",
            "\u001b[1m72/72\u001b[0m \u001b[32m━━━━━━━━━━━━━━━━━━━━\u001b[0m\u001b[37m\u001b[0m \u001b[1m1s\u001b[0m 4ms/step - accuracy: 0.6751 - loss: 0.6363 - val_accuracy: 0.7006 - val_loss: 0.6253\n",
            "Epoch 41/200\n",
            "\u001b[1m72/72\u001b[0m \u001b[32m━━━━━━━━━━━━━━━━━━━━\u001b[0m\u001b[37m\u001b[0m \u001b[1m1s\u001b[0m 4ms/step - accuracy: 0.6778 - loss: 0.6333 - val_accuracy: 0.6925 - val_loss: 0.6270\n",
            "Epoch 42/200\n",
            "\u001b[1m72/72\u001b[0m \u001b[32m━━━━━━━━━━━━━━━━━━━━\u001b[0m\u001b[37m\u001b[0m \u001b[1m1s\u001b[0m 4ms/step - accuracy: 0.6565 - loss: 0.6557 - val_accuracy: 0.6986 - val_loss: 0.6260\n",
            "Epoch 43/200\n",
            "\u001b[1m72/72\u001b[0m \u001b[32m━━━━━━━━━━━━━━━━━━━━\u001b[0m\u001b[37m\u001b[0m \u001b[1m1s\u001b[0m 4ms/step - accuracy: 0.6702 - loss: 0.6473 - val_accuracy: 0.6904 - val_loss: 0.6251\n",
            "Epoch 44/200\n",
            "\u001b[1m72/72\u001b[0m \u001b[32m━━━━━━━━━━━━━━━━━━━━\u001b[0m\u001b[37m\u001b[0m \u001b[1m0s\u001b[0m 4ms/step - accuracy: 0.6644 - loss: 0.6389 - val_accuracy: 0.6864 - val_loss: 0.6248\n",
            "Epoch 45/200\n",
            "\u001b[1m72/72\u001b[0m \u001b[32m━━━━━━━━━━━━━━━━━━━━\u001b[0m\u001b[37m\u001b[0m \u001b[1m1s\u001b[0m 4ms/step - accuracy: 0.6597 - loss: 0.6480 - val_accuracy: 0.6864 - val_loss: 0.6240\n",
            "Epoch 46/200\n",
            "\u001b[1m72/72\u001b[0m \u001b[32m━━━━━━━━━━━━━━━━━━━━\u001b[0m\u001b[37m\u001b[0m \u001b[1m0s\u001b[0m 4ms/step - accuracy: 0.6617 - loss: 0.6520 - val_accuracy: 0.6843 - val_loss: 0.6223\n",
            "Epoch 47/200\n",
            "\u001b[1m72/72\u001b[0m \u001b[32m━━━━━━━━━━━━━━━━━━━━\u001b[0m\u001b[37m\u001b[0m \u001b[1m0s\u001b[0m 4ms/step - accuracy: 0.6729 - loss: 0.6388 - val_accuracy: 0.6802 - val_loss: 0.6245\n",
            "Epoch 48/200\n",
            "\u001b[1m72/72\u001b[0m \u001b[32m━━━━━━━━━━━━━━━━━━━━\u001b[0m\u001b[37m\u001b[0m \u001b[1m1s\u001b[0m 5ms/step - accuracy: 0.6635 - loss: 0.6546 - val_accuracy: 0.6782 - val_loss: 0.6285\n",
            "Epoch 49/200\n",
            "\u001b[1m72/72\u001b[0m \u001b[32m━━━━━━━━━━━━━━━━━━━━\u001b[0m\u001b[37m\u001b[0m \u001b[1m1s\u001b[0m 4ms/step - accuracy: 0.6578 - loss: 0.6511 - val_accuracy: 0.6925 - val_loss: 0.6215\n",
            "Epoch 50/200\n",
            "\u001b[1m72/72\u001b[0m \u001b[32m━━━━━━━━━━━━━━━━━━━━\u001b[0m\u001b[37m\u001b[0m \u001b[1m0s\u001b[0m 5ms/step - accuracy: 0.6687 - loss: 0.6463 - val_accuracy: 0.6782 - val_loss: 0.6231\n",
            "Epoch 51/200\n",
            "\u001b[1m72/72\u001b[0m \u001b[32m━━━━━━━━━━━━━━━━━━━━\u001b[0m\u001b[37m\u001b[0m \u001b[1m1s\u001b[0m 5ms/step - accuracy: 0.6841 - loss: 0.6401 - val_accuracy: 0.6925 - val_loss: 0.6277\n",
            "Epoch 52/200\n",
            "\u001b[1m72/72\u001b[0m \u001b[32m━━━━━━━━━━━━━━━━━━━━\u001b[0m\u001b[37m\u001b[0m \u001b[1m0s\u001b[0m 4ms/step - accuracy: 0.6730 - loss: 0.6409 - val_accuracy: 0.6843 - val_loss: 0.6237\n",
            "Epoch 53/200\n",
            "\u001b[1m72/72\u001b[0m \u001b[32m━━━━━━━━━━━━━━━━━━━━\u001b[0m\u001b[37m\u001b[0m \u001b[1m0s\u001b[0m 5ms/step - accuracy: 0.6618 - loss: 0.6508 - val_accuracy: 0.6904 - val_loss: 0.6257\n",
            "Epoch 54/200\n",
            "\u001b[1m72/72\u001b[0m \u001b[32m━━━━━━━━━━━━━━━━━━━━\u001b[0m\u001b[37m\u001b[0m \u001b[1m1s\u001b[0m 4ms/step - accuracy: 0.6775 - loss: 0.6392 - val_accuracy: 0.6864 - val_loss: 0.6240\n",
            "Epoch 55/200\n",
            "\u001b[1m72/72\u001b[0m \u001b[32m━━━━━━━━━━━━━━━━━━━━\u001b[0m\u001b[37m\u001b[0m \u001b[1m0s\u001b[0m 4ms/step - accuracy: 0.6510 - loss: 0.6571 - val_accuracy: 0.6925 - val_loss: 0.6233\n",
            "Epoch 56/200\n",
            "\u001b[1m72/72\u001b[0m \u001b[32m━━━━━━━━━━━━━━━━━━━━\u001b[0m\u001b[37m\u001b[0m \u001b[1m1s\u001b[0m 4ms/step - accuracy: 0.6632 - loss: 0.6463 - val_accuracy: 0.6925 - val_loss: 0.6212\n",
            "Epoch 57/200\n",
            "\u001b[1m72/72\u001b[0m \u001b[32m━━━━━━━━━━━━━━━━━━━━\u001b[0m\u001b[37m\u001b[0m \u001b[1m0s\u001b[0m 4ms/step - accuracy: 0.6749 - loss: 0.6401 - val_accuracy: 0.6864 - val_loss: 0.6236\n",
            "Epoch 58/200\n",
            "\u001b[1m72/72\u001b[0m \u001b[32m━━━━━━━━━━━━━━━━━━━━\u001b[0m\u001b[37m\u001b[0m \u001b[1m1s\u001b[0m 6ms/step - accuracy: 0.6690 - loss: 0.6441 - val_accuracy: 0.6823 - val_loss: 0.6226\n",
            "Epoch 59/200\n",
            "\u001b[1m72/72\u001b[0m \u001b[32m━━━━━━━━━━━━━━━━━━━━\u001b[0m\u001b[37m\u001b[0m \u001b[1m1s\u001b[0m 8ms/step - accuracy: 0.6773 - loss: 0.6308 - val_accuracy: 0.6843 - val_loss: 0.6373\n",
            "Epoch 60/200\n",
            "\u001b[1m72/72\u001b[0m \u001b[32m━━━━━━━━━━━━━━━━━━━━\u001b[0m\u001b[37m\u001b[0m \u001b[1m1s\u001b[0m 8ms/step - accuracy: 0.6815 - loss: 0.6424 - val_accuracy: 0.6843 - val_loss: 0.6241\n",
            "Epoch 61/200\n",
            "\u001b[1m72/72\u001b[0m \u001b[32m━━━━━━━━━━━━━━━━━━━━\u001b[0m\u001b[37m\u001b[0m \u001b[1m1s\u001b[0m 7ms/step - accuracy: 0.6695 - loss: 0.6443 - val_accuracy: 0.6864 - val_loss: 0.6262\n",
            "Epoch 62/200\n",
            "\u001b[1m72/72\u001b[0m \u001b[32m━━━━━━━━━━━━━━━━━━━━\u001b[0m\u001b[37m\u001b[0m \u001b[1m1s\u001b[0m 7ms/step - accuracy: 0.6944 - loss: 0.6296 - val_accuracy: 0.6884 - val_loss: 0.6275\n",
            "Epoch 63/200\n",
            "\u001b[1m72/72\u001b[0m \u001b[32m━━━━━━━━━━━━━━━━━━━━\u001b[0m\u001b[37m\u001b[0m \u001b[1m0s\u001b[0m 5ms/step - accuracy: 0.6633 - loss: 0.6537 - val_accuracy: 0.6823 - val_loss: 0.6256\n",
            "Epoch 64/200\n",
            "\u001b[1m72/72\u001b[0m \u001b[32m━━━━━━━━━━━━━━━━━━━━\u001b[0m\u001b[37m\u001b[0m \u001b[1m1s\u001b[0m 4ms/step - accuracy: 0.6761 - loss: 0.6300 - val_accuracy: 0.6904 - val_loss: 0.6231\n",
            "Epoch 65/200\n",
            "\u001b[1m72/72\u001b[0m \u001b[32m━━━━━━━━━━━━━━━━━━━━\u001b[0m\u001b[37m\u001b[0m \u001b[1m1s\u001b[0m 4ms/step - accuracy: 0.6557 - loss: 0.6517 - val_accuracy: 0.6823 - val_loss: 0.6236\n",
            "Epoch 66/200\n",
            "\u001b[1m72/72\u001b[0m \u001b[32m━━━━━━━━━━━━━━━━━━━━\u001b[0m\u001b[37m\u001b[0m \u001b[1m1s\u001b[0m 5ms/step - accuracy: 0.6753 - loss: 0.6375 - val_accuracy: 0.6721 - val_loss: 0.6242\n",
            "Epoch 66: early stopping\n",
            "Restoring model weights from the end of the best epoch: 56.\n",
            "\n",
            "Training completed after 66 epochs\n"
          ]
        }
      ],
      "source": [
        "# Create the model\n",
        "model = benitha()\n",
        "\n",
        "# Display model architecture\n",
        "print(\"MODEL ARCHITECTURE:\")\n",
        "model.summary()\n",
        "\n",
        "# Define early stopping callback with specified parameters\n",
        "early_stopping = EarlyStopping(\n",
        "    monitor='val_loss',\n",
        "    patience=10,\n",
        "    min_delta=0.001,\n",
        "    restore_best_weights=True,\n",
        "    verbose=1\n",
        ")\n",
        "\n",
        "# Train the model\n",
        "print(\"\\nStarting model training...\")\n",
        "history = model.fit(\n",
        "    X_train, y_train,\n",
        "    validation_data=(X_val, y_val),\n",
        "    epochs=200,\n",
        "    batch_size=32,\n",
        "    callbacks=[early_stopping],\n",
        "    verbose=1\n",
        ")\n",
        "\n",
        "print(f\"\\nTraining completed after {len(history.history['loss'])} epochs\")"
      ]
    },
    {
      "cell_type": "code",
      "execution_count": 19,
      "metadata": {
        "colab": {
          "base_uri": "https://localhost:8080/"
        },
        "id": "1trEQPGFfxQZ",
        "outputId": "833bb689-e1b1-4d95-f9a8-6818b190dbc5"
      },
      "outputs": [
        {
          "name": "stdout",
          "output_type": "stream",
          "text": [
            "Train Accuracy: 0.688, Validation Accuracy: 0.692, Test Accuracy: 0.693\n",
            "\u001b[1m16/16\u001b[0m \u001b[32m━━━━━━━━━━━━━━━━━━━━\u001b[0m\u001b[37m\u001b[0m \u001b[1m0s\u001b[0m 9ms/step\n",
            "==================================================\n",
            "FINAL MODEL PERFORMANCE METRICS\n",
            "==================================================\n",
            "Test Accuracy: 0.6931\n",
            "Test Loss: 0.6306\n",
            "F1 Score: 0.4215\n",
            "Precision: 0.7237\n",
            "Recall: 0.2973\n",
            "==================================================\n"
          ]
        }
      ],
      "source": [
        "\n",
        "# Evaluate the model\n",
        "train_loss, train_acc = model.evaluate(X_train, y_train, verbose=0)\n",
        "val_loss, val_acc = model.evaluate(X_val, y_val, verbose=0)\n",
        "test_loss, test_acc = model.evaluate(X_test, y_test, verbose=0)\n",
        "print('Train Accuracy: %.3f, Validation Accuracy: %.3f, Test Accuracy: %.3f' % (train_acc, val_acc, test_acc))\n",
        "\n",
        "# Get predictions for test set to calculate additional metrics\n",
        "y_pred = model.predict(X_test)\n",
        "y_pred_binary = (y_pred > 0.5).astype(int)\n",
        "\n",
        "# Calculate F1, Precision, and Recall\n",
        "f1 = f1_score(y_test, y_pred_binary)\n",
        "precision = precision_score(y_test, y_pred_binary)\n",
        "recall = recall_score(y_test, y_pred_binary)\n",
        "\n",
        "print(\"=\"*50)\n",
        "print(\"FINAL MODEL PERFORMANCE METRICS\")\n",
        "print(\"=\"*50)\n",
        "print(f\"Test Accuracy: {test_acc:.4f}\")\n",
        "print(f\"Test Loss: {test_loss:.4f}\")\n",
        "print(f\"F1 Score: {f1:.4f}\")\n",
        "print(f\"Precision: {precision:.4f}\")\n",
        "print(f\"Recall: {recall:.4f}\")\n",
        "print(\"=\"*50)"
      ]
    },
    {
      "cell_type": "code",
      "execution_count": 17,
      "metadata": {
        "colab": {
          "base_uri": "https://localhost:8080/",
          "height": 433
        },
        "id": "XH_V-e-Ff5q2",
        "outputId": "85b6024a-ac15-419c-b493-a88d95606bb0"
      },
      "outputs": [
        {
          "data": {
            "image/png": "[encoded data removed]",
            "text/plain": [
              "<Figure size 640x480 with 1 Axes>"
            ]
          },
          "metadata": {},
          "output_type": "display_data"
        }
      ],
      "source": [
        "# Plot training history\n",
        "plt.plot(history.history['loss'], label='train')\n",
        "plt.plot(history.history['val_loss'], label='validation')\n",
        "plt.legend()\n",
        "plt.show()"
      ]
    }
  ],
  "metadata": {
    "colab": {
      "provenance": []
    },
    "kernelspec": {
      "display_name": "Python 3",
      "name": "python3"
    },
    "language_info": {
      "codemirror_mode": {
        "name": "ipython",
        "version": 3
      },
      "file_extension": ".py",
      "mimetype": "text/x-python",
      "name": "python",
      "nbconvert_exporter": "python",
      "pygments_lexer": "ipython3",
      "version": "3.11.4"
    }
  },
  "nbformat": 4,
  "nbformat_minor": 0
}
