{
  "cells": [
    {
      "cell_type": "markdown",
      "metadata": {
        "id": "view-in-github",
        "colab_type": "text"
      },
      "source": [
        "<a href=\"https://colab.research.google.com/github/ngabo-dev/water-model-peer-group-4/blob/main/Jean_Pierre_formative_II_water_quality_model.ipynb\" target=\"_parent\"><img src=\"https://colab.research.google.com/assets/colab-badge.svg\" alt=\"Open In Colab\"/></a>"
      ]
    },
    {
      "cell_type": "markdown",
      "metadata": {
        "id": "hrXv0rU9sIma"
      },
      "source": [
        "# Excercise - Creating our own custom Model"
      ]
    },
    {
      "cell_type": "markdown",
      "metadata": {
        "id": "iJyZUDbzBTIG"
      },
      "source": [
        "This is a notebook that provides a quick overview of how to create your own custom model. You will be creating a simple model.\n",
        "You will be utilizing Keras and Tensorflow\n"
      ]
    },
    {
      "cell_type": "markdown",
      "metadata": {
        "id": "gvLegMMvBZYg"
      },
      "source": [
        "## Water Quality Dataset\n",
        "\n",
        "This dataset contains water quality measurements and assessments related to potability, which is the suitability of water for human consumption. The dataset's primary objective is to provide insights into water quality parameters and assist in determining whether the water is potable or not. Each row in the dataset represents a water sample with specific attributes, and the \"Potability\" column indicates whether the water is suitable for consumption.\n",
        "\n",
        "https://www.kaggle.com/datasets/uom190346a/water-quality-and-potability?select=water_potability.csv\n"
      ]
    },
    {
      "cell_type": "markdown",
      "source": [
        "Step 1: Load the Dataset"
      ],
      "metadata": {
        "id": "ojN2aHWxNTjv"
      }
    },
    {
      "cell_type": "code",
      "source": [
        "# LOAD THE DATA\n",
        "import pandas as pd\n",
        "\n",
        "# Load the dataset\n",
        "data = pd.read_csv('water_potability.csv')\n",
        "\n",
        "# Display first few rows\n",
        "print(data.head())\n"
      ],
      "metadata": {
        "id": "CPbSYW1U1mfn",
        "colab": {
          "base_uri": "https://localhost:8080/"
        },
        "outputId": "5113e4bd-e055-4b56-b025-14bdab63f40e"
      },
      "execution_count": 10,
      "outputs": [
        {
          "output_type": "stream",
          "name": "stdout",
          "text": [
            "         ph    Hardness        Solids  Chloramines     Sulfate  Conductivity  \\\n",
            "0       NaN  204.890455  20791.318981     7.300212  368.516441    564.308654   \n",
            "1  3.716080  129.422921  18630.057858     6.635246         NaN    592.885359   \n",
            "2  8.099124  224.236259  19909.541732     9.275884         NaN    418.606213   \n",
            "3  8.316766  214.373394  22018.417441     8.059332  356.886136    363.266516   \n",
            "4  9.092223  181.101509  17978.986339     6.546600  310.135738    398.410813   \n",
            "\n",
            "   Organic_carbon  Trihalomethanes  Turbidity  Potability  \n",
            "0       10.379783        86.990970   2.963135           0  \n",
            "1       15.180013        56.329076   4.500656           0  \n",
            "2       16.868637        66.420093   3.055934           0  \n",
            "3       18.436524       100.341674   4.628771           0  \n",
            "4       11.558279        31.997993   4.075075           0  \n"
          ]
        }
      ]
    },
    {
      "cell_type": "markdown",
      "source": [
        "Step 2: Preprocess the Data"
      ],
      "metadata": {
        "id": "Zayf7Em2NbWL"
      }
    },
    {
      "cell_type": "code",
      "source": [
        "# Handling missing values if any\n",
        "data.fillna(data.mean(), inplace=True)\n",
        "\n",
        "# Split into features (X) and target (y)\n",
        "X = data.drop('Potability', axis=1)\n",
        "y = data['Potability']"
      ],
      "metadata": {
        "id": "Qvnx0_dT3JEq"
      },
      "execution_count": 12,
      "outputs": []
    },
    {
      "cell_type": "markdown",
      "source": [
        "Step 3: Scale the Features"
      ],
      "metadata": {
        "id": "JaWE9xKb-MhD"
      }
    },
    {
      "cell_type": "code",
      "source": [
        "from sklearn.preprocessing import StandardScaler\n",
        "\n",
        "scaler = StandardScaler()\n",
        "X_scaled = scaler.fit_transform(X)"
      ],
      "metadata": {
        "id": "233HdERE96ID"
      },
      "execution_count": 13,
      "outputs": []
    },
    {
      "cell_type": "markdown",
      "source": [
        " Step 4: Split into Train, Validation, and Test Sets"
      ],
      "metadata": {
        "id": "2QfR0r8cGVU7"
      }
    },
    {
      "cell_type": "code",
      "source": [
        "\n",
        "from sklearn.model_selection import train_test_split\n",
        "from tensorflow.keras.utils import to_categorical\n",
        "\n",
        "# First split: train vs temp (test + val)\n",
        "X_train, X_temp, y_train, y_temp = train_test_split(X_scaled, y, test_size=0.3, random_state=42, stratify=y)\n",
        "\n",
        "# Second split: val vs test\n",
        "X_val, X_test, y_val, y_test = train_test_split(X_temp, y_temp, test_size=0.5, random_state=42, stratify=y_temp)\n",
        "\n",
        "# One-hot encode the target variable\n",
        "y_train = to_categorical(y_train)\n",
        "y_val = to_categorical(y_val)\n",
        "y_test = to_categorical(y_test)"
      ],
      "metadata": {
        "id": "wfSk1lXRYjrh"
      },
      "execution_count": 14,
      "outputs": []
    },
    {
      "cell_type": "markdown",
      "source": [
        "# Each Memeber Defines their model Here"
      ],
      "metadata": {
        "id": "LvjIHLrcGhzc"
      }
    },
    {
      "cell_type": "code",
      "source": [
        "# Model Definition by member 1\n",
        "def model_Jean_Pierre_Niyongabo(input_shape, num_classes):\n",
        "    from tensorflow.keras import layers, models, regularizers\n",
        "\n",
        "    model = models.Sequential()\n",
        "\n",
        "    model.add(layers.InputLayer(input_shape=input_shape))\n",
        "\n",
        "    model.add(layers.Dense(128, activation='relu',\n",
        "              kernel_regularizer=regularizers.L1L2(l1=0.001, l2=0.001)))\n",
        "    model.add(layers.Dropout(0.25))\n",
        "\n",
        "    model.add(layers.Dense(64, activation='relu',\n",
        "              kernel_regularizer=regularizers.L1L2(l1=0.001, l2=0.001)))\n",
        "    model.add(layers.Dropout(0.25))\n",
        "\n",
        "    # Use sigmoid for binary classification (i.e., if num_classes == 1)\n",
        "    if num_classes == 1:\n",
        "        model.add(layers.Dense(1, activation='sigmoid'))\n",
        "    else:\n",
        "        model.add(layers.Dense(num_classes, activation='softmax'))\n",
        "\n",
        "    return model"
      ],
      "metadata": {
        "id": "FLwYoJG9jvDa"
      },
      "execution_count": 35,
      "outputs": []
    },
    {
      "cell_type": "markdown",
      "source": [
        "Compile Model"
      ],
      "metadata": {
        "id": "xftCbFXDLBCF"
      }
    },
    {
      "cell_type": "code",
      "source": [
        "# Compile the model\n",
        "from tensorflow.keras.optimizers import Adam\n",
        "\n",
        "model = model_Jean_Pierre_Niyongabo(input_shape=X_train.shape[1:], num_classes=y_train.shape[1])\n",
        "optimizer = Adam(learning_rate=0.001)\n",
        "\n",
        "model.compile(\n",
        "    optimizer=optimizer,\n",
        "    loss='categorical_crossentropy',\n",
        "    metrics=['accuracy', 'Precision', 'Recall']\n",
        ")"
      ],
      "metadata": {
        "colab": {
          "base_uri": "https://localhost:8080/"
        },
        "id": "_E12RSq0K_SX",
        "outputId": "cba9d720-faa2-4a6a-a419-bfc9aa84b8dd"
      },
      "execution_count": 36,
      "outputs": [
        {
          "output_type": "stream",
          "name": "stderr",
          "text": [
            "/usr/local/lib/python3.11/dist-packages/keras/src/layers/core/input_layer.py:27: UserWarning: Argument `input_shape` is deprecated. Use `shape` instead.\n",
            "  warnings.warn(\n"
          ]
        }
      ]
    },
    {
      "cell_type": "markdown",
      "source": [
        "# Start the training Process"
      ],
      "metadata": {
        "id": "hDSPmAB9jkrG"
      }
    },
    {
      "cell_type": "code",
      "source": [
        "# Setup for training\n",
        "from tensorflow.keras.callbacks import EarlyStopping\n",
        "\n",
        "early_stopping = EarlyStopping(\n",
        "    monitor='val_loss',\n",
        "    patience=6,\n",
        "    min_delta=0.002,\n",
        "    restore_best_weights=True\n",
        ")\n",
        "\n",
        "# Train the model\n",
        "history = model.fit(\n",
        "    X_train, y_train,\n",
        "    validation_data=(X_val, y_val),\n",
        "    epochs=4000,\n",
        "    verbose=0,\n",
        "    callbacks=[early_stopping]\n",
        ")"
      ],
      "metadata": {
        "id": "OWQHapf3jlYH"
      },
      "execution_count": 37,
      "outputs": []
    },
    {
      "cell_type": "markdown",
      "source": [
        "Evaluate and Plot"
      ],
      "metadata": {
        "id": "4H9NTb7zTp7o"
      }
    },
    {
      "cell_type": "code",
      "source": [
        "# Evaluate and visualize results\n",
        "import matplotlib.pyplot as pyplot\n",
        "\n",
        "# Evaluate the model on train and test sets\n",
        "train_loss, train_acc, train_precision, train_recall = model.evaluate(X_train, y_train, verbose=0)\n",
        "test_loss, test_acc, test_precision, test_recall = model.evaluate(X_test, y_test, verbose=0)\n",
        "\n",
        "# Print results\n",
        "print(f\"Train Accuracy: {train_acc:.3f}, Precision: {train_precision:.3f}, Recall: {train_recall:.3f}\")\n",
        "print(f\"Test Accuracy: {test_acc:.3f}, Precision: {test_precision:.3f}, Recall: {test_recall:.3f}\")\n",
        "\n",
        "# Plot training history\n",
        "pyplot.plot(history.history['loss'], label='train')\n",
        "pyplot.plot(history.history['val_loss'], label='val')\n",
        "pyplot.legend()\n",
        "pyplot.title(\"Loss History\")\n",
        "pyplot.xlabel(\"Epoch\")\n",
        "pyplot.ylabel(\"Loss\")\n",
        "pyplot.show()"
      ],
      "metadata": {
        "id": "y_u4rqgOSyF6",
        "outputId": "50e9c354-db97-44d0-b9a2-ad38e09e2d77",
        "colab": {
          "base_uri": "https://localhost:8080/",
          "height": 507
        }
      },
      "execution_count": 38,
      "outputs": [
        {
          "output_type": "stream",
          "name": "stdout",
          "text": [
            "Train Accuracy: 0.709, Precision: 0.709, Recall: 0.709\n",
            "Test Accuracy: 0.659, Precision: 0.659, Recall: 0.659\n"
          ]
        },
        {
          "output_type": "display_data",
          "data": {
            "text/plain": [
              "<Figure size 640x480 with 1 Axes>"
            ],
            "image/png": "[encoded data removed]"
          },
          "metadata": {}
        }
      ]
    },
    {
      "cell_type": "code",
      "source": [
        "from sklearn.metrics import precision_score, recall_score, f1_score\n",
        "import numpy as np\n",
        "\n",
        "# Evaluate loss and accuracy\n",
        "train_loss, train_accuracy, train_precision, train_recall = model.evaluate(X_train, y_train, verbose=0)\n",
        "test_loss, test_accuracy, test_precision, test_recall = model.evaluate(X_test, y_test, verbose=0)\n",
        "\n",
        "# Predictions\n",
        "y_pred_train = model.predict(X_train)\n",
        "y_pred_test = model.predict(X_test)\n",
        "\n",
        "# Convert predictions and true labels to class indices\n",
        "y_pred_train_labels = np.argmax(y_pred_train, axis=1)\n",
        "y_pred_test_labels = np.argmax(y_pred_test, axis=1)\n",
        "y_train_labels = np.argmax(y_train, axis=1)\n",
        "y_test_labels = np.argmax(y_test, axis=1)\n",
        "\n",
        "# F1 Scores\n",
        "f1_train = f1_score(y_train_labels, y_pred_train_labels, average='weighted')\n",
        "f1_test = f1_score(y_test_labels, y_pred_test_labels, average='weighted')\n",
        "\n",
        "# Print all metrics\n",
        "print(\"----- Training Metrics -----\")\n",
        "print(f\"Accuracy:  {train_accuracy:.3f}\")\n",
        "print(f\"Precision: {train_precision:.3f}\")\n",
        "print(f\"Recall:    {train_recall:.3f}\")\n",
        "print(f\"Loss:      {train_loss:.3f}\")\n",
        "print(f\"F1 Score:  {f1_train:.3f}\\n\")\n",
        "\n",
        "print(\"----- Test Metrics -----\")\n",
        "print(f\"Accuracy:  {test_accuracy:.3f}\")\n",
        "print(f\"Precision: {test_precision:.3f}\")\n",
        "print(f\"Recall:    {test_recall:.3f}\")\n",
        "print(f\"Loss:      {test_loss:.3f}\")\n",
        "print(f\"F1 Score:  {f1_test:.3f}\")"
      ],
      "metadata": {
        "id": "JpTOtE3TdUin",
        "outputId": "78bb25c5-933b-4ddf-84ff-cc44b0c58490",
        "colab": {
          "base_uri": "https://localhost:8080/"
        }
      },
      "execution_count": 39,
      "outputs": [
        {
          "output_type": "stream",
          "name": "stdout",
          "text": [
            "\u001b[1m44/44\u001b[0m \u001b[32m━━━━━━━━━━━━━━━━━━━━\u001b[0m\u001b[37m\u001b[0m \u001b[1m0s\u001b[0m 3ms/step\n",
            "\u001b[1m10/10\u001b[0m \u001b[32m━━━━━━━━━━━━━━━━━━━━\u001b[0m\u001b[37m\u001b[0m \u001b[1m0s\u001b[0m 4ms/step \n",
            "----- Training Metrics -----\n",
            "Accuracy:  0.709\n",
            "Precision: 0.709\n",
            "Recall:    0.709\n",
            "Loss:      0.616\n",
            "F1 Score:  0.689\n",
            "\n",
            "----- Test Metrics -----\n",
            "Accuracy:  0.659\n",
            "Precision: 0.659\n",
            "Recall:    0.659\n",
            "Loss:      0.665\n",
            "F1 Score:  0.634\n"
          ]
        }
      ]
    }
  ],
  "metadata": {
    "colab": {
      "provenance": [],
      "include_colab_link": true
    },
    "kernelspec": {
      "display_name": "Python 3",
      "name": "python3"
    }
  },
  "nbformat": 4,
  "nbformat_minor": 0
}